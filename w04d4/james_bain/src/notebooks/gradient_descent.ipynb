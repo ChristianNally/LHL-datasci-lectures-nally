{
 "cells": [
  {
   "cell_type": "markdown",
   "id": "4bcbcf93-550b-457f-aa26-59aaa58c103e",
   "metadata": {},
   "source": [
    "# Gradient Descent\n",
    "\n",
    "How do we find the optimal weights for our learning models? Minimize the cost function. But how do we find the minimum? Gradient descent."
   ]
  },
  {
   "cell_type": "code",
   "execution_count": 1,
   "id": "aaea3dc3-c86d-47dc-8d0f-6768f9554c8a",
   "metadata": {
    "tags": []
   },
   "outputs": [],
   "source": [
    "# load in our libraries\n",
    "import pandas as pd\n",
    "import numpy as np\n",
    "import matplotlib.pyplot as plt\n",
    "import seaborn as sns\n",
    "\n",
    "sns.set_theme()"
   ]
  },
  {
   "cell_type": "markdown",
   "id": "808dde24-a961-4f86-8bc9-bbb9c256b645",
   "metadata": {},
   "source": [
    "#### But first our data\n",
    "\n",
    "location: `/src/data/apes.csv`\n",
    "\n",
    "Our data for today is just a few gorillas and what we have measure is each height and weight. "
   ]
  },
  {
   "cell_type": "code",
   "execution_count": 2,
   "id": "a86228f8-d22e-4ea7-a624-a656d3793dad",
   "metadata": {},
   "outputs": [
    {
     "data": {
      "text/html": [
       "<div>\n",
       "<style scoped>\n",
       "    .dataframe tbody tr th:only-of-type {\n",
       "        vertical-align: middle;\n",
       "    }\n",
       "\n",
       "    .dataframe tbody tr th {\n",
       "        vertical-align: top;\n",
       "    }\n",
       "\n",
       "    .dataframe thead th {\n",
       "        text-align: right;\n",
       "    }\n",
       "</style>\n",
       "<table border=\"1\" class=\"dataframe\">\n",
       "  <thead>\n",
       "    <tr style=\"text-align: right;\">\n",
       "      <th></th>\n",
       "      <th>weight</th>\n",
       "      <th>height</th>\n",
       "    </tr>\n",
       "    <tr>\n",
       "      <th>id</th>\n",
       "      <th></th>\n",
       "      <th></th>\n",
       "    </tr>\n",
       "  </thead>\n",
       "  <tbody>\n",
       "    <tr>\n",
       "      <th>1</th>\n",
       "      <td>181</td>\n",
       "      <td>160</td>\n",
       "    </tr>\n",
       "    <tr>\n",
       "      <th>2</th>\n",
       "      <td>162</td>\n",
       "      <td>144</td>\n",
       "    </tr>\n",
       "    <tr>\n",
       "      <th>3</th>\n",
       "      <td>182</td>\n",
       "      <td>155</td>\n",
       "    </tr>\n",
       "    <tr>\n",
       "      <th>4</th>\n",
       "      <td>143</td>\n",
       "      <td>140</td>\n",
       "    </tr>\n",
       "    <tr>\n",
       "      <th>5</th>\n",
       "      <td>155</td>\n",
       "      <td>148</td>\n",
       "    </tr>\n",
       "  </tbody>\n",
       "</table>\n",
       "</div>"
      ],
      "text/plain": [
       "    weight  height\n",
       "id                \n",
       "1      181     160\n",
       "2      162     144\n",
       "3      182     155\n",
       "4      143     140\n",
       "5      155     148"
      ]
     },
     "execution_count": 2,
     "metadata": {},
     "output_type": "execute_result"
    }
   ],
   "source": [
    "data = \"../data/apes.csv\"\n",
    "gorillas = pd.read_csv(data, index_col=\"id\")\n",
    "gorillas.head()"
   ]
  },
  {
   "cell_type": "markdown",
   "id": "41e2dd2d-716f-4d13-9826-f533ce0d43e1",
   "metadata": {},
   "source": [
    "What our task is is to build a model that predicts a gorilla's height from their weight. Therefore, our `x` is weight and our `y` is height."
   ]
  },
  {
   "cell_type": "code",
   "execution_count": 3,
   "id": "95ad1035-153c-40d2-be8e-446d050eae90",
   "metadata": {},
   "outputs": [
    {
     "data": {
      "text/plain": [
       "Text(0, 0.5, 'height(cm)')"
      ]
     },
     "execution_count": 3,
     "metadata": {},
     "output_type": "execute_result"
    },
    {
     "data": {
      "image/png": "[encoded data removed]",
      "text/plain": [
       "<Figure size 432x288 with 1 Axes>"
      ]
     },
     "metadata": {},
     "output_type": "display_data"
    }
   ],
   "source": [
    "X = gorillas['weight'].values.reshape(-1,1)\n",
    "y = gorillas['height'].values\n",
    "\n",
    "plt.scatter(X, y)\n",
    "plt.xlabel('weight(kg)')\n",
    "plt.ylabel('height(cm)')"
   ]
  },
  {
   "cell_type": "markdown",
   "id": "a6462bf3-5e0e-4f29-b6a7-6f4379c2d463",
   "metadata": {},
   "source": [
    "## Finding the model parameters with linear regression\n",
    "\n",
    "Let's use least squares to find the optimal parameters (slope and intercept) for the simple linear regression model. \n",
    "\n",
    "When we run this following bit of code, we get the following equation for our model."
   ]
  },
  {
   "cell_type": "code",
   "execution_count": 4,
   "id": "2330939f-f356-4a05-9ed6-440e152a5acd",
   "metadata": {},
   "outputs": [
    {
     "name": "stdout",
     "output_type": "stream",
     "text": [
      "y = 0.4117x + 82.0468\n"
     ]
    }
   ],
   "source": [
    "from sklearn.linear_model import LinearRegression\n",
    "\n",
    "model = LinearRegression()\n",
    "model.fit(X,y)\n",
    "model.intercept_\n",
    "model.coef_\n",
    "print(\"y = {:.4f}x + {:.4f}\".format(model.coef_[0], model.intercept_))"
   ]
  },
  {
   "cell_type": "code",
   "execution_count": 5,
   "id": "d3101da2-5d86-4689-8890-741164709988",
   "metadata": {},
   "outputs": [
    {
     "data": {
      "text/plain": [
       "Text(0, 0.5, 'height(cm)')"
      ]
     },
     "execution_count": 5,
     "metadata": {},
     "output_type": "execute_result"
    },
    {
     "data": {
      "image/png": "[encoded data removed]",
      "text/plain": [
       "<Figure size 432x288 with 1 Axes>"
      ]
     },
     "metadata": {},
     "output_type": "display_data"
    }
   ],
   "source": [
    "# X = weight\n",
    "# y = height\n",
    "plt.scatter(X, y)\n",
    "plt.plot(X, model.predict(X))\n",
    "plt.xlabel('weight(kg)')\n",
    "plt.ylabel('height(cm)')\n"
   ]
  },
  {
   "cell_type": "markdown",
   "id": "c6976cf2-e398-4494-adb6-088ee3b53631",
   "metadata": {},
   "source": [
    "But let's play around with this to get a better intuition at how we derive these optimal values. To do so, we will only attempt to learn the optimal intercept. We'll rely on our model to have given us the optimal slope and will from here on forward hold this parameter constant at 0.4117.\n",
    "\n",
    "What if we develop our own model where attempt to find the best intercept. How would we go about doing that? "
   ]
  },
  {
   "cell_type": "code",
   "execution_count": 6,
   "id": "5da8a0e2-f391-4977-a6e2-71843d5fc878",
   "metadata": {},
   "outputs": [
    {
     "data": {
      "text/plain": [
       "141.7485672478966"
      ]
     },
     "execution_count": 6,
     "metadata": {},
     "output_type": "execute_result"
    }
   ],
   "source": [
    "## first create a linear model that takes in the gorilla's weight,\n",
    "## a slope (which we will always pass th value 0.4117 to\n",
    "## and an intercept which we can change to see if we can minimize the loss function\n",
    "def our_model(weight, slope, intercept):\n",
    "    height = slope * weight + intercept\n",
    "    return height\n",
    "\n",
    "## let's test it out\n",
    "weight = 150\n",
    "slope = model.coef_[0]\n",
    "our_intercept = 80\n",
    "\n",
    "our_model(weight, slope, our_intercept)"
   ]
  },
  {
   "cell_type": "markdown",
   "id": "6ab4d968-5c96-4040-a35d-a437f297876c",
   "metadata": {},
   "source": [
    "Now let's run this model over our entire dataset for each gorilla's weight to predict each gorilla's height given our *randomly* assigned intercept.  We'll use these values to see what our new function looks like..."
   ]
  },
  {
   "cell_type": "code",
   "execution_count": 7,
   "id": "7f4e8358-e67b-4bd6-8c3f-150caf9720a5",
   "metadata": {},
   "outputs": [
    {
     "data": {
      "text/plain": [
       "Text(0, 0.5, 'height(cm)')"
      ]
     },
     "execution_count": 7,
     "metadata": {},
     "output_type": "execute_result"
    },
    {
     "data": {
      "image/png": "[encoded data removed]",
      "text/plain": [
       "<Figure size 432x288 with 1 Axes>"
      ]
     },
     "metadata": {},
     "output_type": "display_data"
    }
   ],
   "source": [
    "our_predictions = our_model(gorillas['weight'], slope, our_intercept)\n",
    "our_predictions\n",
    "\n",
    "plt.scatter(X, y)\n",
    "plt.plot(X, model.predict(X), alpha=0.3)\n",
    "plt.plot(X, our_predictions.values.reshape(-1,1))\n",
    "plt.xlabel('weight(kg)')\n",
    "plt.ylabel('height(cm)')"
   ]
  },
  {
   "cell_type": "markdown",
   "id": "f1ece595-d067-4648-9d5a-fabab7dbde8f",
   "metadata": {},
   "source": [
    "Let's us now calculate the residual sum of squares (rss/sse) as our loss. "
   ]
  },
  {
   "cell_type": "code",
   "execution_count": 8,
   "id": "38b1ba8b-32c8-4d3f-bd2e-deee74a0c1e0",
   "metadata": {},
   "outputs": [
    {
     "name": "stdout",
     "output_type": "stream",
     "text": [
      "sse:  72.84451670258112\n"
     ]
    }
   ],
   "source": [
    "residuals = y - our_predictions\n",
    "squared_residuals = residuals**2\n",
    "sse = np.sum(squared_residuals)\n",
    "print(\"sse: \", sse)"
   ]
  },
  {
   "cell_type": "markdown",
   "id": "9a0bdf16-d5b7-44a8-98b4-8171f49786dc",
   "metadata": {},
   "source": [
    "And now let's plot that loss (72.845) against the intercept (80) that resulted in that loss."
   ]
  },
  {
   "cell_type": "code",
   "execution_count": 9,
   "id": "d780c493-36c8-4292-8c5e-f81c691f10dd",
   "metadata": {},
   "outputs": [
    {
     "data": {
      "text/plain": [
       "Text(0, 0.5, 'loss (sse)')"
      ]
     },
     "execution_count": 9,
     "metadata": {},
     "output_type": "execute_result"
    },
    {
     "data": {
      "image/png": "[encoded data removed]",
      "text/plain": [
       "<Figure size 432x288 with 1 Axes>"
      ]
     },
     "metadata": {},
     "output_type": "display_data"
    }
   ],
   "source": [
    "plt.scatter(our_intercept, sse)\n",
    "plt.xlabel('intercept')\n",
    "plt.ylabel('loss (sse)')"
   ]
  },
  {
   "cell_type": "markdown",
   "id": "f896e529-2f78-463f-9512-883a9b270770",
   "metadata": {},
   "source": [
    "Now, let's pull this code into a function so that we can give ourself a simple way to calculate the loss given our observed weights (inputs), our observed heights (target) and any intercept. Essentially, since we want a way to minimize this loss, it is nice to wrap this logic in a function."
   ]
  },
  {
   "cell_type": "code",
   "execution_count": 10,
   "id": "ee11b1a9-abc8-4e61-8f52-0936069ad77d",
   "metadata": {},
   "outputs": [],
   "source": [
    "slope = model.coef_[0] # a refresher that our slope came from our linear regressor\n",
    "def calculate_loss(x, y, intercept):\n",
    "    predictions = our_model(x, slope, intercept)\n",
    "    residuals = y - predictions\n",
    "    squared_residuals = residuals**2\n",
    "    sse = np.sum(squared_residuals)\n",
    "    return sse"
   ]
  },
  {
   "cell_type": "markdown",
   "id": "f425c8d5-eb76-4db9-8508-3efe366e90c6",
   "metadata": {},
   "source": [
    "Now we just need to play around to see how this function works. Let's go ahead and try to intercepts and see how that affects the loss."
   ]
  },
  {
   "cell_type": "code",
   "execution_count": 11,
   "id": "028f3827-f8fe-4368-95a3-5ac134b0e5cb",
   "metadata": {},
   "outputs": [
    {
     "name": "stdout",
     "output_type": "stream",
     "text": [
      "old intercept 80 and old loss 72.84451670258112\n",
      "new intercept 81 and new loss 54.282634005349145\n"
     ]
    }
   ],
   "source": [
    "old_intercept = 80\n",
    "new_intercept = 81\n",
    "old_loss = calculate_loss(gorillas['weight'], gorillas['height'], old_intercept)\n",
    "new_loss = calculate_loss(gorillas['weight'], gorillas['height'], new_intercept)\n",
    "\n",
    "print(\"old intercept {} and old loss {}\".format(old_intercept, old_loss))\n",
    "print(\"new intercept {} and new loss {}\".format(new_intercept, new_loss))"
   ]
  },
  {
   "cell_type": "markdown",
   "id": "fa8e228f-f1fa-4c55-938d-166ef7fa904d",
   "metadata": {},
   "source": [
    "## Finding the mimimum loss\n",
    "\n",
    "First thing that would be good to do is to remind ourself of the equation for our model so we can actually see what the optimal intercept is.\n",
    "\n",
    "The next thing that I want to do is brute force the process of finding the optimal intercept. Essentially, slowly increase the intercept to descend down the loss function toward some minimum until we find the lowest point. Let's plot what I am saying..."
   ]
  },
  {
   "cell_type": "code",
   "execution_count": 12,
   "id": "54a01b20-415f-4bc8-bf17-d7063ebaa063",
   "metadata": {},
   "outputs": [
    {
     "name": "stdout",
     "output_type": "stream",
     "text": [
      "y = 0.4117x + 82.0468\n"
     ]
    },
    {
     "data": {
      "text/plain": [
       "Text(0, 0.5, 'loss (sse)')"
      ]
     },
     "execution_count": 12,
     "metadata": {},
     "output_type": "execute_result"
    },
    {
     "data": {
      "image/png": "[encoded data removed]",
      "text/plain": [
       "<Figure size 432x288 with 1 Axes>"
      ]
     },
     "metadata": {},
     "output_type": "display_data"
    }
   ],
   "source": [
    "print(\"y = {:.4f}x + {:.4f}\".format(model.coef_[0], model.intercept_))\n",
    "\n",
    "brute_intercepts = np.linspace(80, 84)\n",
    "losses = np.array([calculate_loss(gorillas['weight'], gorillas['height'], interc) for interc in brute_intercepts])\n",
    "\n",
    "# grab the first guess intercept and the known optimal\n",
    "sample_intercepts = np.array([80, model.intercept_])\n",
    "sample_losses = np.array([calculate_loss(gorillas['weight'], gorillas['height'], interc) for interc in sample_intercepts])\n",
    "\n",
    "\n",
    "plt.plot(brute_intercepts, losses)\n",
    "plt.scatter(sample_intercepts, sample_losses) \n",
    "plt.xlabel('intercept')\n",
    "plt.ylabel('loss (sse)')"
   ]
  },
  {
   "cell_type": "markdown",
   "id": "47d95254-5c48-4748-a4ba-b7269ef8c385",
   "metadata": {},
   "source": [
    "But this is expensive!!! Remember, we are only trying to learn one parameter at the momemnt. Some our models in the future might have hundreds!!! Let's calculate the direction in which we should move down this function. In other words, we want to find the derivative of the loss function with respect to the intercept. \n",
    "\n",
    "In other words, this is the reate of change with respect to any given intercept that we choose... in other other words the slope of the function at that point.\n",
    "\n",
    "$ {residual} = ({observed_{height}} - {predicted_{height}})^2 $\n",
    "\n",
    "$ {predicted_{height}} = {0.4117}{weight} + {intercept} $\n",
    "\n",
    "$ {residual} = ({observed_{height}} - {0.4117}{weight} + {intercept})^2 $\n",
    "\n",
    "$ sse = \\sum{residual_i}$\n",
    "\n",
    "So we have to take the derivative of the Sum of Squared Errors with respect to the intercept which is just the sum of the derivatives with respect to the intercept of each square error.\n",
    "\n",
    "Let's demonstrate!"
   ]
  },
  {
   "cell_type": "code",
   "execution_count": 13,
   "id": "8b81aa70-ae95-4975-87b3-1082a3706b9d",
   "metadata": {},
   "outputs": [],
   "source": [
    "# derivative allows us to calculate the numeric derivative\n",
    "from scipy.misc import derivative"
   ]
  },
  {
   "cell_type": "markdown",
   "id": "f67656d6-c7e2-4472-a14f-9cd9446bd677",
   "metadata": {},
   "source": [
    "Let's take the first gorilla as an example and plug in those values to find our derivative given a particular intercept."
   ]
  },
  {
   "cell_type": "code",
   "execution_count": 14,
   "id": "47c911eb-b014-4f89-859e-39daeb9841b0",
   "metadata": {},
   "outputs": [
    {
     "data": {
      "text/plain": [
       "-6.886524375076192"
      ]
     },
     "execution_count": 14,
     "metadata": {},
     "output_type": "execute_result"
    }
   ],
   "source": [
    "# numeric derivative\n",
    "observed_height = gorillas['height'].loc[1]\n",
    "weight = gorillas['weight'].loc[1]\n",
    "\n",
    "\n",
    "def calculate_residual(intercept):\n",
    "    return (observed_height - our_model(weight, slope, intercept))**2\n",
    "\n",
    "\n",
    "derivative(calculate_residual, 82.0468)\n"
   ]
  },
  {
   "cell_type": "markdown",
   "id": "545aab66-28b4-441c-ac6a-a3fe2326528b",
   "metadata": {},
   "source": [
    "Now we need to sum these derivatives to find the derivative of the residual sum of squares function with respect to the intercept. The function below just finds all of the derivatives for each observed weight, observed height and a given intercept."
   ]
  },
  {
   "cell_type": "code",
   "execution_count": 15,
   "id": "dc36c638-476e-4b0b-b4ee-c42921ff6a7d",
   "metadata": {},
   "outputs": [],
   "source": [
    "def find_derivatives(x, y, intercept, print_output):\n",
    "    derivatives = []\n",
    "    for i in range(gorillas.shape[0]):\n",
    "        observed_height = gorillas['height'].loc[i + 1]\n",
    "        weight = gorillas['weight'].loc[i + 1]\n",
    "        \n",
    "        def calculate_residual(intercept):\n",
    "            return (observed_height - our_model(weight, slope, intercept))**2\n",
    "        \n",
    "        d = derivative(calculate_residual, intercept)\n",
    "        if print_output: \n",
    "            print(\"observation: {} (observed height: {:.4f}; weight: {:.4f})\".format(i + 1, observed_height, weight))\n",
    "            print(\"equation: ({:.4f} - ({:.4f} X {:.4f} + intercept))^2\".format(observed_height, slope, weight))\n",
    "            print(\"derivative: {}\\n\".format(d))\n",
    "        derivatives.append(d)\n",
    "        \n",
    "    return np.array(derivatives)"
   ]
  },
  {
   "cell_type": "markdown",
   "id": "fad0c782-f3e8-4355-819d-9b0a744b6548",
   "metadata": {},
   "source": [
    "And now let's try it out for our intercept 80."
   ]
  },
  {
   "cell_type": "code",
   "execution_count": 16,
   "id": "cd39e59b-9071-4ac6-bdd9-7a3b1c2ab850",
   "metadata": {},
   "outputs": [
    {
     "name": "stdout",
     "output_type": "stream",
     "text": [
      "observation: 1 (observed height: 160.0000; weight: 181.0000)\n",
      "equation: (160.0000 - (0.4117 X 181.0000 + intercept))^2\n",
      "derivative: -10.98012437507623\n",
      "\n",
      "observation: 2 (observed height: 144.0000; weight: 162.0000)\n",
      "equation: (144.0000 - (0.4117 X 162.0000 + intercept))^2\n",
      "derivative: 5.376905255456677\n",
      "\n",
      "observation: 3 (observed height: 155.0000; weight: 182.0000)\n",
      "equation: (155.0000 - (0.4117 X 182.0000 + intercept))^2\n",
      "derivative: -0.1568101451042594\n",
      "\n",
      "observation: 4 (observed height: 140.0000; weight: 143.0000)\n",
      "equation: (140.0000 - (0.4117 X 143.0000 + intercept))^2\n",
      "derivative: -2.2660651140104733\n",
      "\n",
      "observation: 5 (observed height: 148.0000; weight: 155.0000)\n",
      "equation: (148.0000 - (0.4117 X 155.0000 + intercept))^2\n",
      "derivative: -8.386294354347001\n",
      "\n",
      "observation: 6 (observed height: 145.0000; weight: 148.0000)\n",
      "equation: (145.0000 - (0.4117 X 148.0000 + intercept))^2\n",
      "derivative: -8.149493964150679\n",
      "\n",
      "individual residual function derivs:  [-10.98012438   5.37690526  -0.15681015  -2.26606511  -8.38629435\n",
      "  -8.14949396]\n",
      "resid sum square function deriv:  -24.561882697231965\n"
     ]
    }
   ],
   "source": [
    "ds = find_derivatives(gorillas['weight'], gorillas['height'], 80, True)\n",
    "print('individual residual function derivs: ', ds)\n",
    "print('resid sum square function deriv: ', sum(ds))"
   ]
  },
  {
   "cell_type": "markdown",
   "id": "a544d21b-4899-475b-bc5f-c1b6fefdbc3b",
   "metadata": {},
   "source": [
    "The neat thing is, we know we are at a minimum point when the derivative approaches 0. Here, we know our optimal intercept is around 82.0468. Let's see if the slope of the line is approaching flatness if we hand our newly created function this value (just to test our intuition)."
   ]
  },
  {
   "cell_type": "code",
   "execution_count": 17,
   "id": "980179a3-9d18-4f70-9f91-6ca30112d479",
   "metadata": {},
   "outputs": [
    {
     "name": "stdout",
     "output_type": "stream",
     "text": [
      "observation: 1 (observed height: 160.0000; weight: 181.0000)\n",
      "equation: (160.0000 - (0.4117 X 181.0000 + intercept))^2\n",
      "derivative: -6.886524375076192\n",
      "\n",
      "observation: 2 (observed height: 144.0000; weight: 162.0000)\n",
      "equation: (144.0000 - (0.4117 X 162.0000 + intercept))^2\n",
      "derivative: 9.470505255456656\n",
      "\n",
      "observation: 3 (observed height: 155.0000; weight: 182.0000)\n",
      "equation: (155.0000 - (0.4117 X 182.0000 + intercept))^2\n",
      "derivative: 3.9367898548957787\n",
      "\n",
      "observation: 4 (observed height: 140.0000; weight: 143.0000)\n",
      "equation: (140.0000 - (0.4117 X 143.0000 + intercept))^2\n",
      "derivative: 1.8275348859895075\n",
      "\n",
      "observation: 5 (observed height: 148.0000; weight: 155.0000)\n",
      "equation: (148.0000 - (0.4117 X 155.0000 + intercept))^2\n",
      "derivative: -4.29269435434702\n",
      "\n",
      "observation: 6 (observed height: 145.0000; weight: 148.0000)\n",
      "equation: (145.0000 - (0.4117 X 148.0000 + intercept))^2\n",
      "derivative: -4.055893964150698\n",
      "\n",
      "[-6.88652438  9.47050526  3.93678985  1.82753489 -4.29269435 -4.05589396]\n",
      "-0.0002826972319684984\n"
     ]
    }
   ],
   "source": [
    "ds = find_derivatives(gorillas['weight'], gorillas['height'], 82.0468, True)\n",
    "print(ds)\n",
    "print(sum(ds))"
   ]
  },
  {
   "cell_type": "markdown",
   "id": "9f3684ee-544b-4779-b474-6182bf0cf6a5",
   "metadata": {},
   "source": [
    "Perhaps, it is easier to plot this just to see what is happening here."
   ]
  },
  {
   "cell_type": "code",
   "execution_count": 22,
   "id": "6abe27f4-3668-4c49-851a-fd1bbc349909",
   "metadata": {},
   "outputs": [
    {
     "data": {
      "text/plain": [
       "Text(0, 0.5, 'loss (sse)')"
      ]
     },
     "execution_count": 22,
     "metadata": {},
     "output_type": "execute_result"
    },
    {
     "data": {
      "image/png": "[encoded data removed]",
      "text/plain": [
       "<Figure size 432x288 with 1 Axes>"
      ]
     },
     "metadata": {},
     "output_type": "display_data"
    }
   ],
   "source": [
    "# just a helper function\n",
    "def solve_for_b(slope,x, y):\n",
    "    b = (slope * x - y)/-1\n",
    "    return b\n",
    "\n",
    "ix = 81.5 # we can change this value to see the slope at different intercepts along this function\n",
    "iy = calculate_loss(gorillas['weight'], gorillas['height'], ix)\n",
    "m = sum(find_derivatives(gorillas['weight'], gorillas['height'], ix, False))\n",
    "b = solve_for_b(m, ix, iy)\n",
    "\n",
    "def get_point(m, x, b):\n",
    "    return m * x + b\n",
    "\n",
    "tmp_x = np.array([ix-0.5, ix+0.5])\n",
    "tmp_y = get_point(m, tmp_x, b)\n",
    "\n",
    "tmp_y\n",
    "\n",
    "\n",
    "plt.plot(brute_intercepts, losses)\n",
    "plt.scatter(sample_intercepts, sample_losses) \n",
    "plt.plot(tmp_x, tmp_y)\n",
    "plt.xlabel('intercept')\n",
    "plt.ylabel('loss (sse)')"
   ]
  },
  {
   "cell_type": "markdown",
   "id": "667d3f97-9c6e-402a-b94f-08db0cbb07b5",
   "metadata": {},
   "source": [
    "## Gradient Descent!!!\n",
    "We can now use this value to tell us what direction and how big of a step to make and now we just need to take a step in that direction (opposite of the sign of the derivative). To specify the step size, we will just multiple the derivative by a learning rate (we have to decide this). The larger the learning rate the faster we learn but the higher the probability we miss the maximum.\n",
    "\n",
    "The nice thing however, is as our derivative become smaller the smaller our steps become which means we make more adjustments toward the minimum that we do if our loss is higher."
   ]
  },
  {
   "cell_type": "code",
   "execution_count": 19,
   "id": "e8ebe031-384e-4577-b38b-e9f8524d011c",
   "metadata": {},
   "outputs": [
    {
     "name": "stdout",
     "output_type": "stream",
     "text": [
      "step size  -2.4561882697231967\n",
      "new intercept  82.4561882697232\n"
     ]
    }
   ],
   "source": [
    "start_intercept = 80\n",
    "learning_rate = 0.1\n",
    "direction = sum(find_derivatives(gorillas['weight'], gorillas['height'], start_intercept, False))\n",
    "step_size = direction * learning_rate\n",
    "print(\"step size \", step_size)\n",
    "\n",
    "new_intercept = old_intercept - step_size\n",
    "print(\"new intercept \", new_intercept)\n",
    "\n"
   ]
  },
  {
   "cell_type": "markdown",
   "id": "fe525607-ea24-4b3e-b03a-7d9b2e5ec889",
   "metadata": {},
   "source": [
    "And finally, let's find a better intercept by using gradient descent!!!"
   ]
  },
  {
   "cell_type": "code",
   "execution_count": 20,
   "id": "de446d24-c9d9-4848-b769-011e48fcf05f",
   "metadata": {},
   "outputs": [],
   "source": [
    "def gradient_descent(start_intercept, learning_rate):\n",
    "    old_intercept = start_intercept\n",
    "    \n",
    "    for i in range(40):\n",
    "        direction = sum(find_derivatives(gorillas['weight'], gorillas['height'], old_intercept, False))\n",
    "        step_size = direction * learning_rate\n",
    "        print(\"step size \", step_size)\n",
    "        new_intercept = old_intercept - step_size\n",
    "        loss = calculate_loss(gorillas['weight'], gorillas['height'], new_intercept)\n",
    "        print(\"new intercept \", new_intercept)\n",
    "        print(\"loss: \", loss, \"\\n\")\n",
    "        old_intercept = new_intercept"
   ]
  },
  {
   "cell_type": "code",
   "execution_count": 21,
   "id": "1734056d-dfbd-42aa-8da2-ea03b1078379",
   "metadata": {},
   "outputs": [
    {
     "name": "stdout",
     "output_type": "stream",
     "text": [
      "step size  -0.024561882697231967\n",
      "new intercept  80.02456188269723\n",
      "loss:  72.24485033743846 \n",
      "\n",
      "step size  -0.024267140104865293\n",
      "new intercept  80.0488290228021\n",
      "loss:  71.65948961310241 \n",
      "\n",
      "step size  -0.02397593442360693\n",
      "new intercept  80.0728049572257\n",
      "loss:  71.08809325420627 \n",
      "\n",
      "step size  -0.02368822321052363\n",
      "new intercept  80.09649318043623\n",
      "loss:  70.53032812684786 \n",
      "\n",
      "step size  -0.023403964531997362\n",
      "new intercept  80.11989714496822\n",
      "loss:  69.98586904436782 \n",
      "\n",
      "step size  -0.023123116957613377\n",
      "new intercept  80.14302026192584\n",
      "loss:  69.45439857775922 \n",
      "\n",
      "step size  -0.02284563955412199\n",
      "new intercept  80.16586590147996\n",
      "loss:  68.9356068706022 \n",
      "\n",
      "step size  -0.02257149187947249\n",
      "new intercept  80.18843739335944\n",
      "loss:  68.42919145841107 \n",
      "\n",
      "step size  -0.022300633976918734\n",
      "new intercept  80.21073802733636\n",
      "loss:  67.93485709229304 \n",
      "\n",
      "step size  -0.022033026369195737\n",
      "new intercept  80.23277105370556\n",
      "loss:  67.4523155668132 \n",
      "\n",
      "step size  -0.02176863005276522\n",
      "new intercept  80.25453968375832\n",
      "loss:  66.98128555196531 \n",
      "\n",
      "step size  -0.021507406492132133\n",
      "new intercept  80.27604709025046\n",
      "loss:  66.52149242915164 \n",
      "\n",
      "step size  -0.021249317614226527\n",
      "new intercept  80.29729640786468\n",
      "loss:  66.0726681310759 \n",
      "\n",
      "step size  -0.020994325802855828\n",
      "new intercept  80.31829073366754\n",
      "loss:  65.63455098545485 \n",
      "\n",
      "step size  -0.020742393893221505\n",
      "new intercept  80.33903312756075\n",
      "loss:  65.20688556245995 \n",
      "\n",
      "step size  -0.02049348516650292\n",
      "new intercept  80.35952661272725\n",
      "loss:  64.78942252579597 \n",
      "\n",
      "step size  -0.020247563344505067\n",
      "new intercept  80.37977417607176\n",
      "loss:  64.38191848733442 \n",
      "\n",
      "step size  -0.02000459258437087\n",
      "new intercept  80.39977876865613\n",
      "loss:  63.98413586521455 \n",
      "\n",
      "step size  -0.019764537473358417\n",
      "new intercept  80.4195433061295\n",
      "loss:  63.59584274532788 \n",
      "\n",
      "step size  -0.019527363023678107\n",
      "new intercept  80.43907066915318\n",
      "loss:  63.21681274610925 \n",
      "\n",
      "step size  -0.019293034667393783\n",
      "new intercept  80.45836370382058\n",
      "loss:  62.84682488655191 \n",
      "\n",
      "step size  -0.019061518251385055\n",
      "new intercept  80.47742522207197\n",
      "loss:  62.485663457372254 \n",
      "\n",
      "step size  -0.01883278003236836\n",
      "new intercept  80.49625800210434\n",
      "loss:  62.13311789524715 \n",
      "\n",
      "step size  -0.018606786671979934\n",
      "new intercept  80.51486478877632\n",
      "loss:  61.788982660052106 \n",
      "\n",
      "step size  -0.018383505231916106\n",
      "new intercept  80.53324829400823\n",
      "loss:  61.45305711502795 \n",
      "\n",
      "step size  -0.018162903169133243\n",
      "new intercept  80.55141119717736\n",
      "loss:  61.125145409805924 \n",
      "\n",
      "step size  -0.017944948331103716\n",
      "new intercept  80.56935614550846\n",
      "loss:  60.80505636622354 \n",
      "\n",
      "step size  -0.0177296089511305\n",
      "new intercept  80.5870857544596\n",
      "loss:  60.49260336686492 \n",
      "\n",
      "step size  -0.017516853643716957\n",
      "new intercept  80.6046026081033\n",
      "loss:  60.18760424625905 \n",
      "\n",
      "step size  -0.017306651399992403\n",
      "new intercept  80.6219092595033\n",
      "loss:  59.88988118467436 \n",
      "\n",
      "step size  -0.017098971583192395\n",
      "new intercept  80.63900823108649\n",
      "loss:  59.599260604446705 \n",
      "\n",
      "step size  -0.016893783924194113\n",
      "new intercept  80.65590201501068\n",
      "loss:  59.31557306878103 \n",
      "\n",
      "step size  -0.01669105851710384\n",
      "new intercept  80.67259307352779\n",
      "loss:  59.03865318296605 \n",
      "\n",
      "step size  -0.016490765814898566\n",
      "new intercept  80.68908383934269\n",
      "loss:  58.76833949794735 \n",
      "\n",
      "step size  -0.01629287662511973\n",
      "new intercept  80.7053767159678\n",
      "loss:  58.50447441619838 \n",
      "\n",
      "step size  -0.016097362105618403\n",
      "new intercept  80.72147407807341\n",
      "loss:  58.24690409983964 \n",
      "\n",
      "step size  -0.01590419376035101\n",
      "new intercept  80.73737827183376\n",
      "loss:  57.995478380947816 \n",
      "\n",
      "step size  -0.015713343435226932\n",
      "new intercept  80.75309161526899\n",
      "loss:  57.75005067400603 \n",
      "\n",
      "step size  -0.015524783314004196\n",
      "new intercept  80.76861639858299\n",
      "loss:  57.510477890440896 \n",
      "\n",
      "step size  -0.01533848591423606\n",
      "new intercept  80.78395488449723\n",
      "loss:  57.27662035520044 \n",
      "\n"
     ]
    }
   ],
   "source": [
    "gradient_descent(80, 0.001)"
   ]
  },
  {
   "cell_type": "code",
   "execution_count": null,
   "id": "82568cc3-5b90-4ce2-adb4-17779668af8b",
   "metadata": {},
   "outputs": [],
   "source": []
  },
  {
   "cell_type": "code",
   "execution_count": null,
   "id": "f2f7136f",
   "metadata": {},
   "outputs": [],
   "source": []
  },
  {
   "cell_type": "code",
   "execution_count": null,
   "id": "148a202b",
   "metadata": {},
   "outputs": [],
   "source": []
  },
  {
   "cell_type": "code",
   "execution_count": null,
   "id": "ef147ede",
   "metadata": {},
   "outputs": [],
   "source": []
  }
 ],
 "metadata": {
  "kernelspec": {
   "display_name": "Python 3 (ipykernel)",
   "language": "python",
   "name": "python3"
  },
  "language_info": {
   "codemirror_mode": {
    "name": "ipython",
    "version": 3
   },
   "file_extension": ".py",
   "mimetype": "text/x-python",
   "name": "python",
   "nbconvert_exporter": "python",
   "pygments_lexer": "ipython3",
   "version": "3.9.7"
  }
 },
 "nbformat": 4,
 "nbformat_minor": 5
}
