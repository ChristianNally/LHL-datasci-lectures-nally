{
 "cells": [
  {
   "cell_type": "markdown",
   "metadata": {
    "slideshow": {
     "slide_type": "slide"
    }
   },
   "source": [
    "# Truncated SVD Demo\n",
    "\n",
    "Performs linear dimensionality reduction by means of truncated singular value decomposition (SVD).  \n",
    "This estimator does not center the data before computing the singular value decomposition. This means it can work with sparse matrices efficiently."
   ]
  },
  {
   "cell_type": "markdown",
   "metadata": {
    "slideshow": {
     "slide_type": "slide"
    }
   },
   "source": [
    "Missing values means matrix decomposition cannot happen naturally.\n",
    "We thus use Machine Learning iterative approach to complete the missing values.\n",
    "The filled values which are ratings for users if high, those movies can be recommended to a user.\n",
    "\n",
    "Actual SVD works on filled data in matrices like PCA does. We are going to use Truncated SVD."
   ]
  },
  {
   "cell_type": "code",
   "execution_count": 1,
   "metadata": {
    "slideshow": {
     "slide_type": "skip"
    }
   },
   "outputs": [],
   "source": [
    "import pandas as pd \n",
    "import numpy as np\n",
    "from scipy.sparse import csr_matrix as sparse_matrix\n",
    "import os\n",
    "from sklearn.decomposition import TruncatedSVD\n",
    "from sklearn.neighbors import NearestNeighbors"
   ]
  },
  {
   "cell_type": "code",
   "execution_count": 2,
   "metadata": {
    "slideshow": {
     "slide_type": "slide"
    }
   },
   "outputs": [
    {
     "data": {
      "text/html": [
       "<div>\n",
       "<style scoped>\n",
       "    .dataframe tbody tr th:only-of-type {\n",
       "        vertical-align: middle;\n",
       "    }\n",
       "\n",
       "    .dataframe tbody tr th {\n",
       "        vertical-align: top;\n",
       "    }\n",
       "\n",
       "    .dataframe thead th {\n",
       "        text-align: right;\n",
       "    }\n",
       "</style>\n",
       "<table border=\"1\" class=\"dataframe\">\n",
       "  <thead>\n",
       "    <tr style=\"text-align: right;\">\n",
       "      <th></th>\n",
       "      <th>userId</th>\n",
       "      <th>movieId</th>\n",
       "      <th>rating</th>\n",
       "      <th>timestamp</th>\n",
       "    </tr>\n",
       "  </thead>\n",
       "  <tbody>\n",
       "    <tr>\n",
       "      <th>0</th>\n",
       "      <td>1</td>\n",
       "      <td>1</td>\n",
       "      <td>4.0</td>\n",
       "      <td>964982703</td>\n",
       "    </tr>\n",
       "    <tr>\n",
       "      <th>1</th>\n",
       "      <td>1</td>\n",
       "      <td>3</td>\n",
       "      <td>4.0</td>\n",
       "      <td>964981247</td>\n",
       "    </tr>\n",
       "    <tr>\n",
       "      <th>2</th>\n",
       "      <td>1</td>\n",
       "      <td>6</td>\n",
       "      <td>4.0</td>\n",
       "      <td>964982224</td>\n",
       "    </tr>\n",
       "    <tr>\n",
       "      <th>3</th>\n",
       "      <td>1</td>\n",
       "      <td>47</td>\n",
       "      <td>5.0</td>\n",
       "      <td>964983815</td>\n",
       "    </tr>\n",
       "    <tr>\n",
       "      <th>4</th>\n",
       "      <td>1</td>\n",
       "      <td>50</td>\n",
       "      <td>5.0</td>\n",
       "      <td>964982931</td>\n",
       "    </tr>\n",
       "  </tbody>\n",
       "</table>\n",
       "</div>"
      ],
      "text/plain": [
       "   userId  movieId  rating  timestamp\n",
       "0       1        1     4.0  964982703\n",
       "1       1        3     4.0  964981247\n",
       "2       1        6     4.0  964982224\n",
       "3       1       47     5.0  964983815\n",
       "4       1       50     5.0  964982931"
      ]
     },
     "execution_count": 2,
     "metadata": {},
     "output_type": "execute_result"
    }
   ],
   "source": [
    "movie_ratings = pd.read_csv('data/ratings.csv')\n",
    "movie_ratings.head()"
   ]
  },
  {
   "cell_type": "code",
   "execution_count": 3,
   "metadata": {
    "slideshow": {
     "slide_type": "slide"
    }
   },
   "outputs": [
    {
     "data": {
      "text/html": [
       "<div>\n",
       "<style scoped>\n",
       "    .dataframe tbody tr th:only-of-type {\n",
       "        vertical-align: middle;\n",
       "    }\n",
       "\n",
       "    .dataframe tbody tr th {\n",
       "        vertical-align: top;\n",
       "    }\n",
       "\n",
       "    .dataframe thead th {\n",
       "        text-align: right;\n",
       "    }\n",
       "</style>\n",
       "<table border=\"1\" class=\"dataframe\">\n",
       "  <thead>\n",
       "    <tr style=\"text-align: right;\">\n",
       "      <th></th>\n",
       "      <th>title</th>\n",
       "      <th>genres</th>\n",
       "    </tr>\n",
       "    <tr>\n",
       "      <th>movieId</th>\n",
       "      <th></th>\n",
       "      <th></th>\n",
       "    </tr>\n",
       "  </thead>\n",
       "  <tbody>\n",
       "    <tr>\n",
       "      <th>1</th>\n",
       "      <td>Toy Story (1995)</td>\n",
       "      <td>Adventure|Animation|Children|Comedy|Fantasy</td>\n",
       "    </tr>\n",
       "    <tr>\n",
       "      <th>2</th>\n",
       "      <td>Jumanji (1995)</td>\n",
       "      <td>Adventure|Children|Fantasy</td>\n",
       "    </tr>\n",
       "    <tr>\n",
       "      <th>3</th>\n",
       "      <td>Grumpier Old Men (1995)</td>\n",
       "      <td>Comedy|Romance</td>\n",
       "    </tr>\n",
       "    <tr>\n",
       "      <th>4</th>\n",
       "      <td>Waiting to Exhale (1995)</td>\n",
       "      <td>Comedy|Drama|Romance</td>\n",
       "    </tr>\n",
       "    <tr>\n",
       "      <th>5</th>\n",
       "      <td>Father of the Bride Part II (1995)</td>\n",
       "      <td>Comedy</td>\n",
       "    </tr>\n",
       "  </tbody>\n",
       "</table>\n",
       "</div>"
      ],
      "text/plain": [
       "                                      title  \\\n",
       "movieId                                       \n",
       "1                          Toy Story (1995)   \n",
       "2                            Jumanji (1995)   \n",
       "3                   Grumpier Old Men (1995)   \n",
       "4                  Waiting to Exhale (1995)   \n",
       "5        Father of the Bride Part II (1995)   \n",
       "\n",
       "                                              genres  \n",
       "movieId                                               \n",
       "1        Adventure|Animation|Children|Comedy|Fantasy  \n",
       "2                         Adventure|Children|Fantasy  \n",
       "3                                     Comedy|Romance  \n",
       "4                               Comedy|Drama|Romance  \n",
       "5                                             Comedy  "
      ]
     },
     "execution_count": 3,
     "metadata": {},
     "output_type": "execute_result"
    }
   ],
   "source": [
    "import pandas as pd \n",
    "# to look up titles\n",
    "movie_info = pd.read_csv('data/movies.csv', index_col=0)\n",
    "movie_info.head()"
   ]
  },
  {
   "cell_type": "code",
   "execution_count": 4,
   "metadata": {
    "slideshow": {
     "slide_type": "skip"
    }
   },
   "outputs": [],
   "source": [
    "def get_stats(ratings, item_key=\"item\", user_key=\"user\"):\n",
    "    print(\"Number of ratings:\", len(ratings))\n",
    "    print(\"The average rating:\", np.mean(ratings[\"rating\"]))\n",
    "\n",
    "    n = len(set(ratings[item_key]))\n",
    "    d = len(set(ratings[user_key]))\n",
    "    print(\"Number of users:\", d)\n",
    "    #print(\"Number of items:\", n)\n",
    "    print(\"Fraction nonzero:\", len(ratings)/(n*d))\n",
    "    print(\"Size of full X matrix (GB):\", (n*d)*8/1e9)\n",
    "\n",
    "    return n,d"
   ]
  },
  {
   "cell_type": "code",
   "execution_count": 5,
   "metadata": {
    "slideshow": {
     "slide_type": "skip"
    }
   },
   "outputs": [],
   "source": [
    "def create_X(ratings, n, d, user_key=\"user\", item_key=\"item\"):\n",
    "    \"\"\"\n",
    "    Creates a sparse matrix using scipy.csr_matrix and mappers to relate indexes to items' id.\n",
    "    \n",
    "    Parameters:\n",
    "    -----------\n",
    "    ratings: the ratings to be stored in the matrix;\n",
    "    n: the number of items\n",
    "    d: the number of users\n",
    "    user_key: the column in the pandas dataframe that contains the users id\n",
    "    item_key: the column in the pandas dataframe that contains the items id\n",
    "    \n",
    "    Returns: (X, user_mapper, item_mapper, user_inverse_mapper, item_inverse_mapper, user_ind, item_ind)\n",
    "    --------\n",
    "    X: the sparse matrix containing the ratings. Note that\n",
    "    user_mapper: stores the indexes of the users - the user_id is the key;\n",
    "    item_mapper: stores the indexes of the items - the item_id is the key;\n",
    "    user_inverse_mapper: stores the user id - the user index is the key;\n",
    "    item_inverse_mapper: stores the item id - the item index is the key;\n",
    "    user_ind: indexes of the users;\n",
    "    item_ind: indexes of the items;\n",
    "    \"\"\"\n",
    "    \n",
    "    user_mapper = dict(zip(np.unique(ratings[user_key]), list(range(d))))\n",
    "    item_mapper = dict(zip(np.unique(ratings[item_key]), list(range(n))))\n",
    "\n",
    "    user_inverse_mapper = dict(zip(list(range(d)), np.unique(ratings[user_key])))\n",
    "    item_inverse_mapper = dict(zip(list(range(n)), np.unique(ratings[item_key])))\n",
    "\n",
    "    user_ind = [user_mapper[i] for i in ratings[user_key]]\n",
    "    item_ind = [item_mapper[i] for i in ratings[item_key]]\n",
    "\n",
    "    X = sparse_matrix((ratings[\"rating\"], (item_ind, user_ind)), shape=(n,d))\n",
    "    \n",
    "    return X, user_mapper, item_mapper, user_inverse_mapper, item_inverse_mapper, user_ind, item_ind"
   ]
  },
  {
   "cell_type": "code",
   "execution_count": 6,
   "metadata": {
    "slideshow": {
     "slide_type": "skip"
    }
   },
   "outputs": [],
   "source": [
    "def find_nearestneighbour(model, X, query_ind):\n",
    "    \n",
    "    model.fit(X)\n",
    "    if X[query_ind].ndim==2:\n",
    "        neighbors_idx = model.kneighbors(X[query_ind], return_distance=False).ravel()\n",
    "    else: \n",
    "        neighbors_idx = model.kneighbors(X[query_ind][None], return_distance=False).ravel()\n",
    "    \n",
    "    return np.delete(neighbors_idx, np.where(neighbors_idx==query_ind))"
   ]
  },
  {
   "cell_type": "code",
   "execution_count": 7,
   "metadata": {
    "slideshow": {
     "slide_type": "skip"
    }
   },
   "outputs": [],
   "source": [
    "def print_movie_pop(nn):\n",
    "    movies = [movie_inverse_mapper[z] for z in nn]\n",
    "    pop = np.sum(movie_X[nn], axis=1) \n",
    "    for i in range(0,5):\n",
    "        print(f\"\\t{movie_info.loc[movies[i],'title']:50} Total stars: {pop[i,0]}\")"
   ]
  },
  {
   "cell_type": "code",
   "execution_count": 8,
   "metadata": {
    "slideshow": {
     "slide_type": "slide"
    }
   },
   "outputs": [
    {
     "name": "stdout",
     "output_type": "stream",
     "text": [
      "Number of ratings: 100836\n",
      "The average rating: 3.501556983616962\n",
      "Number of users: 610\n",
      "Fraction nonzero: 0.016999683055613623\n",
      "Size of full X matrix (GB): 0.04745312\n"
     ]
    }
   ],
   "source": [
    "movie_n, movie_d = get_stats(movie_ratings, user_key=\"userId\", item_key=\"movieId\")"
   ]
  },
  {
   "cell_type": "code",
   "execution_count": 9,
   "metadata": {
    "slideshow": {
     "slide_type": "skip"
    }
   },
   "outputs": [],
   "source": [
    "movie_X, user_mapper, movie_mapper, user_inverse_mapper, movie_inverse_mapper, user_ind, movie_ind = create_X(movie_ratings, movie_n, movie_d, user_key=\"userId\", item_key=\"movieId\")\n"
   ]
  },
  {
   "cell_type": "code",
   "execution_count": 10,
   "metadata": {
    "slideshow": {
     "slide_type": "skip"
    }
   },
   "outputs": [
    {
     "data": {
      "text/plain": [
       "array([2353,  546,  615, 1756,  622], dtype=int64)"
      ]
     },
     "execution_count": 10,
     "metadata": {},
     "output_type": "execute_result"
    }
   ],
   "source": [
    "nn_euc = find_nearestneighbour(NearestNeighbors(n_neighbors=6), movie_X, 0)\n",
    "nn_euc"
   ]
  },
  {
   "cell_type": "code",
   "execution_count": 11,
   "metadata": {
    "slideshow": {
     "slide_type": "slide"
    }
   },
   "outputs": [],
   "source": [
    "toy_story_ind = 0\n",
    "toy_story_vec = movie_X[toy_story_ind]"
   ]
  },
  {
   "cell_type": "code",
   "execution_count": 12,
   "metadata": {
    "slideshow": {
     "slide_type": "slide"
    }
   },
   "outputs": [
    {
     "name": "stdout",
     "output_type": "stream",
     "text": [
      "\n",
      "\n",
      "\n",
      "SVD(k=10): \n",
      "\tIndependence Day (a.k.a. ID4) (1996)               Total stars: 696.0\n",
      "\tBack to the Future (1985)                          Total stars: 690.5\n",
      "\tJurassic Park (1993)                               Total stars: 892.5\n",
      "\tAladdin (1992)                                     Total stars: 694.0\n",
      "\tMission: Impossible (1996)                         Total stars: 573.0\n",
      "\n",
      "\n",
      "\n",
      "SVD(k=100): \n",
      "\tToy Story 2 (1999)                                 Total stars: 374.5\n",
      "\tMission: Impossible (1996)                         Total stars: 573.0\n",
      "\tIndependence Day (a.k.a. ID4) (1996)               Total stars: 696.0\n",
      "\tWilly Wonka & the Chocolate Factory (1971)         Total stars: 461.0\n",
      "\tTwister (1996)                                     Total stars: 408.5\n",
      "\n",
      "\n",
      "\n",
      "SVD(k=500): \n",
      "\tToy Story 2 (1999)                                 Total stars: 374.5\n",
      "\tMission: Impossible (1996)                         Total stars: 573.0\n",
      "\tIndependence Day (a.k.a. ID4) (1996)               Total stars: 696.0\n",
      "\tBug's Life, A (1998)                               Total stars: 323.5\n",
      "\tNutty Professor, The (1996)                        Total stars: 224.0\n",
      "\n",
      "\n",
      " Euclidean:\n",
      "\tToy Story 2 (1999)                                 Total stars: 374.5\n",
      "\tMission: Impossible (1996)                         Total stars: 573.0\n",
      "\tIndependence Day (a.k.a. ID4) (1996)               Total stars: 696.0\n",
      "\tBug's Life, A (1998)                               Total stars: 323.5\n",
      "\tNutty Professor, The (1996)                        Total stars: 224.0\n"
     ]
    }
   ],
   "source": [
    "for k in [10, 100, 500]:\n",
    "    print(\"\\n\\n\")\n",
    "    movie_svd = TruncatedSVD(n_components=k)\n",
    "    Z = movie_svd.fit_transform(movie_X)\n",
    "    nn_svd = find_nearestneighbour(NearestNeighbors(n_neighbors=50), Z, 0)\n",
    "\n",
    "    print(f\"SVD(k={k}): \")\n",
    "    print_movie_pop(nn_svd) \n",
    "    \n",
    "print(\"\\n\\n Euclidean:\")\n",
    "print_movie_pop(nn_euc)"
   ]
  },
  {
   "cell_type": "code",
   "execution_count": null,
   "metadata": {},
   "outputs": [],
   "source": []
  }
 ],
 "metadata": {
  "kernelspec": {
   "display_name": "Python 3",
   "language": "python",
   "name": "python3"
  },
  "language_info": {
   "codemirror_mode": {
    "name": "ipython",
    "version": 3
   },
   "file_extension": ".py",
   "mimetype": "text/x-python",
   "name": "python",
   "nbconvert_exporter": "python",
   "pygments_lexer": "ipython3",
   "version": "3.6.7"
  }
 },
 "nbformat": 4,
 "nbformat_minor": 2
}
